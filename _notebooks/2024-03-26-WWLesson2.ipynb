{
 "cells": [
  {
   "cell_type": "markdown",
   "metadata": {},
   "source": [
    "---\n",
    "toc: true\n",
    "comments: true\n",
    "title: Workshop 2 Hacks\n",
    "courses: { csp: {week: 26} }\n",
    "type: hacks\n",
    "---"
   ]
  },
  {
   "cell_type": "markdown",
   "metadata": {},
   "source": [
    "# FRQs\n",
    "\n",
    "## Question 2 - Writing Classes:\n",
    "\n",
    "(a) Describe the different features needed to create a class and what their purpose is.\n",
    "- Class Name: identifies the class, use for constructor later\n",
    "- Instance Variables: store data in the object\n",
    "- Methods: define functions of class\n",
    "- Constructor: instantiate an object of the class\n",
    "- Encapsulation: public (anywhere), private (within class), protected (within class and subclass): (defines scope for the class/visibiltiy) \n",
    "- Inheritance: allows class to inherit data/methods from other classes\n",
    "- Polymorphism: allows objects of different classes to be treated as part of one superclass\n",
    "- Abstraction: hides implementation details of an object\n",
    "\n",
    "(b) Code:\n",
    "\n",
    "Create a Java class BankAccount to represent a simple bank account. This class should have the following attributes:\n",
    "- accountHolder (String): The name of the account holder.\n",
    "- balance (double): The current balance in the account.\n",
    "\n",
    "Implement the following mutator (setter) methods for the BankAccount class:\n",
    "- setAccountHolder(String name): Sets the name of the account holder.\n",
    "- deposit(double amount): Deposits a given amount into the account.\n",
    "- withdraw(double amount): Withdraws a given amount from the account, but only if the withdrawal amount is less than or equal to the current balance.\n",
    "Ensure that the balance is never negative."
   ]
  },
  {
   "cell_type": "code",
   "execution_count": 2,
   "metadata": {
    "vscode": {
     "languageId": "java"
    }
   },
   "outputs": [
    {
     "name": "stdout",
     "output_type": "stream",
     "text": [
      "Initial balance: 1000.0\n",
      "500.0 deposited successfully.\n",
      "200.0 withdrawn successfully.\n",
      "Insufficient balance. Withdrawal amount exceeds the current balance.\n",
      "Updated balance: 1300.0\n"
     ]
    }
   ],
   "source": [
    "public class BankAccount {\n",
    "\n",
    "    // Attributes\n",
    "    private String accountHolder;\n",
    "    private double balance;\n",
    "\n",
    "    // Constructor\n",
    "    public BankAccount(String accountHolder, double balance) {\n",
    "        this.accountHolder = accountHolder;\n",
    "        if (balance >= 0) {\n",
    "            this.balance = balance;\n",
    "        } else {\n",
    "            System.out.println(\"Initial balance cannot be negative. Setting balance to 0.\");\n",
    "            this.balance = 0;\n",
    "        }\n",
    "    }\n",
    "\n",
    "    // Setter name for account holder\n",
    "    public void setAccountHolder(String name) {\n",
    "        this.accountHolder = name;\n",
    "    }\n",
    "\n",
    "    // Deposit method\n",
    "    public void deposit(double amount) {\n",
    "        if (amount > 0) {\n",
    "            this.balance += amount;\n",
    "            System.out.println(amount + \" deposited successfully.\");\n",
    "        } else {\n",
    "            System.out.println(\"Invalid amount. Deposit amount should be greater than 0.\");\n",
    "        }\n",
    "    }\n",
    "\n",
    "    // Withdraw method\n",
    "    public void withdraw(double amount) {\n",
    "        if (amount > 0) {\n",
    "            if (amount <= this.balance) {\n",
    "                this.balance -= amount;\n",
    "                System.out.println(amount + \" withdrawn successfully.\");\n",
    "            } else {\n",
    "                System.out.println(\"Insufficient balance. Withdrawal amount exceeds the current balance.\");\n",
    "            }\n",
    "        } else {\n",
    "            System.out.println(\"Invalid amount. Withdrawal amount should be greater than 0.\");\n",
    "        }\n",
    "    }\n",
    "\n",
    "    // Getter method for balance\n",
    "    public double getBalance() {\n",
    "        return this.balance;\n",
    "    }\n",
    "\n",
    "    // Main method to test the BankAccount class\n",
    "    public static void main(String[] args) {\n",
    "        // Creating a BankAccount object\n",
    "        BankAccount account = new BankAccount(\"John Doe\", 1000);\n",
    "\n",
    "        // Display initial balance\n",
    "        System.out.println(\"Initial balance: \" + account.getBalance());\n",
    "\n",
    "        // Depositing and withdrawing money\n",
    "        account.deposit(500);\n",
    "        account.withdraw(200);\n",
    "        account.withdraw(1500);  // This withdrawal should fail due to insufficient balance\n",
    "\n",
    "        // Display updated balance\n",
    "        System.out.println(\"Updated balance: \" + account.getBalance());\n",
    "    }\n",
    "}\n",
    "BankAccount.main(null);"
   ]
  },
  {
   "cell_type": "markdown",
   "metadata": {},
   "source": [
    "## Question 3 - Instantiation of a Class\n",
    "\n",
    "(a) Explain how a constructor works, including when it runs and what generally is done within a constructor.\n",
    "- Allows instantiation of a class to make an object of the class using `new` keyword\n",
    "- Can take in parameters to give initial values of the object\n",
    "- Use `super` to access superclass and `this` to access construtors in the class\n",
    "- Can be static or non-static to access these values without making an object of the class\n",
    "\n",
    "\n",
    "(b) Create an example of an overloaded constructor within a class. You must use at least three variables. Include the correct initialization of variables and correct headers for the constructor. Then, run the constructor at least twice with different variables and demonstrate that these two objects called different constructors. "
   ]
  },
  {
   "cell_type": "code",
   "execution_count": 4,
   "metadata": {
    "vscode": {
     "languageId": "java"
    }
   },
   "outputs": [
    {
     "name": "stdout",
     "output_type": "stream",
     "text": [
      "Constructor with memberName parameter called.\n",
      "Constructor with memberName and memberAge parameters called.\n",
      "Constructor with memberName, memberAge, and memberPosition parameters called.\n",
      "Member1 details - Name: John, Age: 0, Position: None\n",
      "Member2 details - Name: Jane, Age: 30, Position: None\n",
      "Member3 details - Name: Doe, Age: 25, Position: Teacher\n"
     ]
    }
   ],
   "source": [
    "public class SchoolMember {\n",
    "\n",
    "    // Instance variables\n",
    "    private String memberName;\n",
    "    private int memberAge;\n",
    "    private String memberPosition;\n",
    "\n",
    "    // Constructor with memberName parameter\n",
    "    public SchoolMember(String memberName) {\n",
    "        this.memberName = memberName;\n",
    "        this.memberAge = 0; \n",
    "        this.memberPosition = \"None\"; \n",
    "        System.out.println(\"Constructor with memberName parameter called.\");\n",
    "    }\n",
    "\n",
    "    // Constructor with memberName and memberAge parameters\n",
    "    public SchoolMember(String memberName, int memberAge) {\n",
    "        this.memberName = memberName;\n",
    "        this.memberAge = memberAge;\n",
    "        this.memberPosition = \"None\";   // Default memberPosition\n",
    "        System.out.println(\"Constructor with memberName and memberAge parameters called.\");\n",
    "    }\n",
    "\n",
    "    // Constructor with memberName, memberAge, and memberPosition parameters\n",
    "    public SchoolMember(String memberName, int memberAge, String memberPosition) {\n",
    "        this.memberName = memberName;\n",
    "        this.memberAge = memberAge;\n",
    "        this.memberPosition = memberPosition;\n",
    "        System.out.println(\"Constructor with memberName, memberAge, and memberPosition parameters called.\");\n",
    "    }\n",
    "\n",
    "    // Getter methods\n",
    "    public String getMemberName() {\n",
    "        return memberName;\n",
    "    }\n",
    "\n",
    "    public int getMemberAge() {\n",
    "        return memberAge;\n",
    "    }\n",
    "\n",
    "    public String getMemberPosition() {\n",
    "        return memberPosition;\n",
    "    }\n",
    "\n",
    "    // Main method to test the SchoolMember class\n",
    "    public static void main(String[] args) {\n",
    "        // Creating SchoolMember objects using different constructors\n",
    "        SchoolMember member1 = new SchoolMember(\"John\");\n",
    "        SchoolMember member2 = new SchoolMember(\"Jane\", 30);\n",
    "        SchoolMember member3 = new SchoolMember(\"Doe\", 25, \"Teacher\");\n",
    "\n",
    "        // Displaying the details of the created SchoolMember objects\n",
    "        System.out.println(\"Member1 details - Name: \" + member1.getMemberName() + \", Age: \" + member1.getMemberAge() + \", Position: \" + member1.getMemberPosition());\n",
    "        System.out.println(\"Member2 details - Name: \" + member2.getMemberName() + \", Age: \" + member2.getMemberAge() + \", Position: \" + member2.getMemberPosition());\n",
    "        System.out.println(\"Member3 details - Name: \" + member3.getMemberName() + \", Age: \" + member3.getMemberAge() + \", Position: \" + member3.getMemberPosition());\n",
    "    }\n",
    "}\n",
    "SchoolMember.main(null);\n"
   ]
  },
  {
   "cell_type": "code",
   "execution_count": null,
   "metadata": {
    "vscode": {
     "languageId": "java"
    }
   },
   "outputs": [],
   "source": []
  }
 ],
 "metadata": {
  "kernelspec": {
   "display_name": "Java",
   "language": "java",
   "name": "java"
  },
  "language_info": {
   "codemirror_mode": "java",
   "file_extension": ".jshell",
   "mimetype": "text/x-java-source",
   "name": "Java",
   "pygments_lexer": "java",
   "version": "18.0.2-ea+9-Ubuntu-222.04"
  }
 },
 "nbformat": 4,
 "nbformat_minor": 2
}
