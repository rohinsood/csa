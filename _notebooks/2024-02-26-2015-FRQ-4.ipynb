{
 "cells": [
  {
   "attachments": {},
   "cell_type": "markdown",
   "metadata": {},
   "source": [
    "---\n",
    "layout: post\n",
    "title: 2015 FRQ 4\n",
    "toc: true\n",
    "comments: true\n",
    "courses: { csa: {week: 26} }\n",
    "type: hacks\n",
    "---"
   ]
  },
  {
   "attachments": {},
   "cell_type": "markdown",
   "metadata": {},
   "source": [
    "# The Problem & First Impressions\n",
    "- An interface named NumberGroup is designed to represent a group of integers, encapsulating a single method, contains, which determines if a given integer is part of the group. The Range class is then implemented as a NumberGroup, defining a range of integer values between a specified minimum and maximum, inclusively. The class incorporates instance variables and methods, including a constructor accepting two int parameters representing the range boundaries. Additionally, a MultipleGroups class, acting as both a NumberGroup and a container for a collection of NumberGroup objects, contains a method named contains that evaluates whether an integer is present in any of the encapsulated number groups. This solution showcases key Java concepts such as interfaces, class implementation, encapsulation, and the use of control structures for managing collections of sparse arrays efficiently.\n",
    "\n",
    "# Part A\n",
    "- **Task:** Create an interface named `NumberGroup` representing a group of integers.\n",
    "- **Purpose:** Define a single method, `contains`, within the interface to determine if a given integer is part of the group.\n",
    "- **Example:** If `group1` is of type `NumberGroup` and contains the numbers -5 and 3, then `group1.contains(-5)` should return true, and `group1.contains(2)` should return false.\n",
    "- **Outcome:** The `NumberGroup` interface provides a blueprint for classes that represent different ways of defining and checking integer groups. The `contains` method is essential for verifying the inclusion of a specified integer in the group.\n",
    "\n",
    "## My Solution:\n",
    "- Use a simple interface with no method implementations."
   ]
  },
  {
   "cell_type": "code",
   "execution_count": null,
   "metadata": {},
   "outputs": [],
   "source": [
    "public interface NumberGroup {\n",
    "  public boolean contains(int number);\n",
    "}"
   ]
  },
  {
   "attachments": {},
   "cell_type": "markdown",
   "metadata": {},
   "source": [
    "# Part B\n",
    "- **Task:** Implement the Range class as a NumberGroup, defining a number group containing all integers within a specified inclusive range.\n",
    "- **Purpose:** The Range class encapsulates a group of int values within the defined range, adhering to the NumberGroup interface.\n",
    "- **Example:** Upon declaring `NumberGroup range1 = new Range(-3, 2)`, the represented group includes integer values -3, -2, -1, 0, 1, 2.\n",
    "- **Outcome:** The complete Range class should incorporate necessary instance variables, methods, and a constructor with two int parameters representing the minimum and maximum values. This design ensures proper validation, with the minimum being less than or equal to the maximum, facilitating the creation and validation of specific integer groups within a defined range.\n",
    "  \n",
    "## My Solution:\n",
    "- Validates if the input integer (number) is within the inclusive range defined by the instance variables min and max, returning true if it is, and false otherwise. Uses a ternary operator to make the code more concise and readable"
   ]
  },
  {
   "cell_type": "code",
   "execution_count": null,
   "metadata": {},
   "outputs": [],
   "source": [
    "public class Range implements NumberGroup {\n",
    "    private int min;\n",
    "    private int max;\n",
    "    \n",
    "    public Range(int min, int max){\n",
    "        this.min = min;\n",
    "        this.max = max;\n",
    "    }\n",
    "\n",
    "    @Override\n",
    "    public boolean contains(int number) {\n",
    "        return (number >= min && number <= max) ? true : false;\n",
    "    }\n",
    "}\n",
    "\n",
    "Range test = new Range(-3,5);\n",
    "System.out.println(\"test.contains(1): \" + test.contains(1));\n",
    "System.out.println(\"test.contains(10): \" + test.contains(10));\n"
   ]
  },
  {
   "attachments": {},
   "cell_type": "markdown",
   "metadata": {},
   "source": [
    "# Part C\n",
    "- **Task:** Implement the MultipleGroups class, representing a collection of NumberGroup objects and itself being a NumberGroup.\n",
    "- **Purpose:** The MultipleGroups class manages a list of number groups stored in the instance variable `groupList`.\n",
    "- **Example:** If an instance `multiple1` of MultipleGroups contains three ranges (new Range(5, 8), new Range(10, 12), and new Range(1, 6)), calling `multiple1.contains(2)` should return true, `multiple1.contains(9)` should return false, and `multiple1.contains(6)` should return true.\n",
    "- **Outcome:** The `contains` method in MultipleGroups takes an integer as input and returns true only if the integer is present in one or more of the number groups in `groupList`. This design allows effective checking for the inclusion of a specified integer across various number groups.\n",
    "    \n",
    "## My Solution:\n",
    "- Utilizes a for loop to iterate through the elements of `groupList`.\n",
    "- Inside the loop, employs `this.groupList.get(i).contains(number)` to check if the current NumberGroup in the iteration contains the specified integer.\n",
    "- Returns true if any NumberGroup contains the integer; otherwise, returns false."
   ]
  },
  {
   "cell_type": "code",
   "execution_count": null,
   "metadata": {},
   "outputs": [],
   "source": [
    "public class MultipleGroups implements NumberGroup {\n",
    "  private List<NumberGroup> groupList;\n",
    "\n",
    "  public MultipleGroups(List<NumberGroup> groupList) {\n",
    "      this.groupList = groupList;\n",
    "  }\n",
    "\n",
    "  @Override\n",
    "  public boolean contains(int number) {\n",
    "      for (int i = 0; i < this.groupList.size(); i++) {\n",
    "          if (this.groupList.get(i).contains(number)) {\n",
    "              return true;\n",
    "          }\n",
    "      }\n",
    "      return false;\n",
    "  }\n",
    "}\n",
    "\n",
    "ArrayList<NumberGroup> groupsList = new ArrayList<NumberGroup>();\n",
    "Range range1 = new Range(5,8);\n",
    "Range range2 = new Range(10,12);\n",
    "Range range3 = new Range(1,6);\n",
    "groupsList.add(range1); groupsList.add(range2); groupsList.add(range3);\n",
    "MultipleGroups multiple1 = new MultipleGroups(groupsList);\n",
    "System.out.println(\"multiple1.contains(2): \" + multiple1.contains(2));\n",
    "System.out.println(\"multiple1.contains(9): \" + multiple1.contains(9));\n",
    "System.out.println(\"multiple1.contains(6): \" + multiple1.contains(6));"
   ]
  }
 ],
 "metadata": {
  "kernelspec": {
   "display_name": "Java",
   "language": "java",
   "name": "java"
  },
  "language_info": {
   "name": "java",
   "version": "3.10.12 (main, Nov 20 2023, 15:14:05) [GCC 11.4.0]"
  },
  "orig_nbformat": 4,
  "vscode": {
   "interpreter": {
    "hash": "767d51c1340bd893661ea55ea3124f6de3c7a262a8b4abca0554b478b1e2ff90"
   }
  }
 },
 "nbformat": 4,
 "nbformat_minor": 2
}
