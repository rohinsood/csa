{
 "cells": [
  {
   "attachments": {},
   "cell_type": "markdown",
   "metadata": {},
   "source": [
    "---\n",
    "toc: true\n",
    "comments: true\n",
    "layout: post\n",
    "title: Workshop 1 HACKS\n",
    "courses: { compsci: {week: 25} }\n",
    "type: hacks\n",
    "---"
   ]
  },
  {
   "cell_type": "markdown",
   "metadata": {},
   "source": [
    "### Question 1: Primitive Types vs Reference Types (Unit 1)\n",
    "Situation: You are developing a banking application where you need to represent customer information. You have decided to use both primitive types and reference types for this purpose.\n",
    "\n",
    "#### (a) Define primitive types and reference types in Java. Provide examples of each.\n",
    "- Primitive types are basic data types in Java and are used to store simple values\n",
    "    - Examples: int, double, boolean, char\n",
    "```java\n",
    "int age = 17;\n",
    "```\n",
    "- Reference types are non-primitive types that store references to objects\n",
    "    - Examples: classes, arrays, strings, interfaces\n",
    "```java\n",
    "String name = \"Kaiden\";\n",
    "```\n",
    "#### (b) Explain the differences between primitive types and reference types in terms of memory allocation and usage in Java programs.\n",
    "- The primitive and reference types are different because the primitive types store the actual values, while the reference types store a reference to where the data is located. For the primitive type, the space is allocated for the actual value when the variable is created, but for the reference variable, the space is allocated for the reference. Primitive types store the actual value, so the operations with them are quick and easy, but reference types are a bit slower because the operations access the object through the reference.\n",
    "\n",
    "#### (c) Code:\n",
    "\n",
    "You have a method calculateInterest that takes a primitive double type representing the principal amount and a reference type Customer representing the customer information. Write the method signature and the method implementation. Include comments to explain your code."
   ]
  },
  {
   "cell_type": "code",
   "execution_count": 9,
   "metadata": {
    "vscode": {
     "languageId": "java"
    }
   },
   "outputs": [
    {
     "name": "stdout",
     "output_type": "stream",
     "text": [
      "Principal: 50000.0, Interest rate: 0.05\n",
      "Customer Name: Kaiden\n",
      "Customer Credit Score: 700\n",
      "Total Interest: 2500.0\n",
      "Kaiden - Credit Score: 700, Interest: 2500.0\n"
     ]
    }
   ],
   "source": [
    "public class Customer {\n",
    "    private String name;\n",
    "    private int creditScore;\n",
    "    // Constructor to initialize name and credit score\n",
    "    public Customer(String name, int creditScore) {\n",
    "        this.name = name;\n",
    "        this.creditScore = creditScore;\n",
    "    }\n",
    "    // getter method for name\n",
    "    public String getName() {\n",
    "        return name;\n",
    "    }\n",
    "    // setter method for name\n",
    "    public void setName(String name) {\n",
    "        this.name = name;\n",
    "    }\n",
    "\n",
    "\n",
    "\n",
    "    //getter method for credit score\n",
    "    public int getCreditScore() {\n",
    "        return creditScore;\n",
    "    }\n",
    "    //Setter method for credit score\n",
    "    public void setCreditScore(int creditScore) {\n",
    "        this.creditScore = creditScore;\n",
    "    }\n",
    "}\n",
    "public class Test {\n",
    "    public static void main(String[] args) {\n",
    "        double principal = 50000;\n",
    "        System.out.println(\"Principal: \"+principal+\", Interest rate: 0.05\");\n",
    "        Customer customer = new Customer(\"Kaiden\", 700);\n",
    "        double interest = calculateInterest(principal, customer);\n",
    "        System.out.println(customer.getName()+ \" - Credit Score: \"+ customer.getCreditScore()+\", Interest: \"+interest);\n",
    "    }\n",
    "    // Method signature for calculateInterest\n",
    "    // Takes a primitive double for principal amount and a reference type Customer for customer information\n",
    "    public static double calculateInterest(double principal, Customer customer) {\n",
    "        // Calculate interest based on principal and customer credit score\n",
    "        // For example, let's say the interest rate is 5%\n",
    "        double interestRate = 0.05;\n",
    "        double interest = principal * interestRate;\n",
    "        // Print customer name, credit score, and total interest\n",
    "        System.out.println(\"Customer Name: \" + customer.getName());\n",
    "        System.out.println(\"Customer Credit Score: \" + customer.getCreditScore());\n",
    "        System.out.println(\"Total Interest: \" + interest);\n",
    "        // Return the total interest\n",
    "        return interest;\n",
    "    }\n",
    "}\n",
    "Test.main(null);"
   ]
  },
  {
   "cell_type": "markdown",
   "metadata": {},
   "source": [
    "### Question 2: Iteration over 2D arrays (Unit 4)\n",
    "Situation: You are developing a game where you need to track player scores on a 2D grid representing levels and attempts.\n",
    "\n",
    "#### (a) Explain the concept of iteration over a 2D array in Java. Provide an example scenario where iterating over a 2D array is useful in a programming task.\n",
    "Iterating over a 2D in Java uses nested for loops usually to iterate through each element in the 2D array, the outer loop usually does the rows and the inner loop does the columns. Iterating over a 2D array is useful in the game because you could make the row the different levels and the columns as the scores for the attempts. By iterating over the 2D array, you can sum up all the scores to calculate the top score for the levels or the average scores for each level.\n",
    "\n",
    "#### (b) Code:\n",
    "\n",
    "You need to implement a method calculateTotalScore that takes a 2D array scores of integers representing player scores and returns the sum of all the elements in the array. Write the method signature and the method implementation. Include comments to explain your code."
   ]
  },
  {
   "cell_type": "code",
   "execution_count": 12,
   "metadata": {
    "vscode": {
     "languageId": "java"
    }
   },
   "outputs": [
    {
     "name": "stdout",
     "output_type": "stream",
     "text": [
      "Total Score: 175\n"
     ]
    }
   ],
   "source": [
    "public class Game {\n",
    "    private int[][] scores;\n",
    "    // this is the constructor to initialize the 2D array of scores\n",
    "    public Game(int[][] scores) {\n",
    "        this.scores = scores;\n",
    "    }\n",
    "    //calculates total score from a 2D array of player scores\n",
    "    public int calculateTotalScore() {\n",
    "        int totalScore = 0;\n",
    "        // iterates over each element in the 2D array\n",
    "        for (int i = 0; i < scores.length; i++) {\n",
    "            for (int j = 0; j < scores[i].length; j++) {\n",
    "                //adds score to the total score\n",
    "                totalScore += scores[i][j];\n",
    "            }\n",
    "        }\n",
    "        //returns the total score\n",
    "        return totalScore;\n",
    "    }\n",
    "    public static void main(String[] args) {\n",
    "        //2D array of player scores\n",
    "        int[][] playerScores = {\n",
    "                {10, 20, 30},\n",
    "                {15, 50, 5},\n",
    "                {5, 40, 0}\n",
    "        };\n",
    "        Game game = new Game(playerScores);\n",
    "        int totalScore = game.calculateTotalScore();\n",
    "        System.out.println(\"Total Score: \" + totalScore);\n",
    "    }\n",
    "}\n",
    "Game.main(null);"
   ]
  }
 ],
 "metadata": {
  "kernelspec": {
   "display_name": "Java",
   "language": "java",
   "name": "java"
  },
  "language_info": {
   "codemirror_mode": "java",
   "file_extension": ".jshell",
   "mimetype": "text/x-java-source",
   "name": "Java",
   "pygments_lexer": "java",
   "version": "11.0.17+8-post-Ubuntu-1ubuntu220.04"
  }
 },
 "nbformat": 4,
 "nbformat_minor": 2
}
