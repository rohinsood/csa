{
 "cells": [
  {
   "attachments": {},
   "cell_type": "markdown",
   "metadata": {},
   "source": [
    "---\n",
    "layout: post\n",
    "title: 2015 FRQ 1\n",
    "toc: true\n",
    "comments: true\n",
    "courses: { csa: {week: 26} }\n",
    "type: hacks\n",
    "render_with_liquid: false\n",
    "---"
   ]
  },
  {
   "attachments": {},
   "cell_type": "markdown",
   "metadata": {},
   "source": [
    "# The Problem & First Impressions\n",
    "- The main topics of this question revolve around creating a class named DiverseArray with three static methods for handling one-dimensional and two-dimensional arrays of integers. The methods are focused on calculating sums: the first method finds the sum of values in a one-dimensional array, the second method calculates the sums of rows in a two-dimensional array, and the third method analyzes the uniqueness of row sums in the two-dimensional array. The question requires understanding and implementation of these methods in Java."
   ]
  },
  {
   "attachments": {},
   "cell_type": "markdown",
   "metadata": {},
   "source": [
    "# Prompt Summary\n",
    "\n",
    "1. **Method 1 - Sum of One-Dimensional Array:**\n",
    "   - Method Signature: `public static int arraySum(int[] arr)`\n",
    "   - Description: Returns the sum of the values in a one-dimensional array.\n",
    "   - Parameters: \n",
    "     - `arr` - One-dimensional array of integers.\n",
    "\n",
    "2. **Method 2 - Sum of Rows in Two-Dimensional Array:**\n",
    "   - Method Signature: `public static int[] rowSums(int[][] arr2D)`\n",
    "   - Description: Returns an array representing the sums of the rows of a two-dimensional array.\n",
    "   - Parameters:\n",
    "     - `arr2D` - Two-dimensional array of integers.\n",
    "\n",
    "3. **Method 3 - Analyzing Row Sums:**\n",
    "   - Method Signature: `public static boolean analyzeRows(int[][] arr2D)`\n",
    "   - Description: Analyzes the row sums of a two-dimensional array and returns a boolean indicating whether all row sums are different.\n",
    "   - Parameters:\n",
    "     - `arr2D` - Two-dimensional array of integers.\n",
    "   - Return: \n",
    "     - `true` if all row sums are different.\n",
    "     - `false` if there are any repeated row sums."
   ]
  },
  {
   "attachments": {},
   "cell_type": "markdown",
   "metadata": {},
   "source": [
    "# Part A:\n",
    "- Task: Create a static method named `arraySum`.\n",
    "- Purpose: Calculate and return the sum of entries in a specified one-dimensional array.\n",
    "- Example: Given an array `arr1`, demonstrate the result obtained by calling the `arraySum` method.\n",
    "- Outcome: The method should compute the sum of elements in the array and return the result.\n",
    "\n",
    "## My Solution:\n",
    "- I iterate through the list and add each element in a local variable that is initialized outside the scope of each loop run."
   ]
  },
  {
   "cell_type": "code",
   "execution_count": 3,
   "metadata": {},
   "outputs": [
    {
     "name": "stdout",
     "output_type": "stream",
     "text": [
      "6\n"
     ]
    }
   ],
   "source": [
    "class DiverseArray {\n",
    "    public static int arraySum(int[] arr) {\n",
    "        int totalSum = 0;\n",
    "        for (int index = 0; index < arr.length; index++) {\n",
    "            totalSum += arr[index];\n",
    "        }\n",
    "        return totalSum;\n",
    "    }\n",
    "}\n",
    "\n",
    "int[] myArray = {1, 1, 1, 1, 1, 1};\n",
    "\n",
    "int resultSum = DiverseArray.arraySum(myArray);\n",
    "\n",
    "System.out.println(resultSum);"
   ]
  },
  {
   "attachments": {},
   "cell_type": "markdown",
   "metadata": {},
   "source": [
    "# Part B\n",
    "- Task: Implement a static method named `rowSums`.\n",
    "- Purpose: Calculate and return the sums of each row in a given two-dimensional array.\n",
    "- Example: Given a two-dimensional array `arr2D` in row-major order, demonstrate the result obtained by calling the `rowSums` method.\n",
    "- Outcome: The method should produce a one-dimensional array, where each entry is the sum of the corresponding row in the input array `arr2D`. The provided example involves an array `mat1` with row sums {16, 32, 28, 20}.\n",
    "\n",
    "## My Solution:\n",
    "- This uses the same methodologies as my previous code, calling arraySum within each iteration of rows, and storing the respective sums in an index of an array that is beyond the scope of the loop"
   ]
  },
  {
   "attachments": {},
   "cell_type": "markdown",
   "metadata": {},
   "source": [
    "```java\n",
    "class DiverseArray {\n",
    "  public static int arraySum(int[] arr) {\n",
    "      int sum = 0;\n",
    "      for (int i = 0; i<arr.length; i++){\n",
    "          sum+=arr[i];\n",
    "      }\n",
    "      return sum;\n",
    "  }\n",
    "\n",
    "  public static int[] rowSums(int[][] twoD) {\n",
    "      int[] sums = new int[twoD.length];\n",
    "      for (int i = 0; i<twoD.length; i++) {\n",
    "          sums[i] = arraySum(twoD[i]);\n",
    "      }\n",
    "      return sums;\n",
    "  }\n",
    "}\n",
    "\n",
    "int[][] array = {{1,2,3,4,5}, {6,7,8,9,10}, {1,1,1,1,0}};\n",
    "int[] result = DiverseArray.rowSums(array);\n",
    "for (int i = 0; i<result.length; i++) {\n",
    "  System.out.print(result[i] + \" \");\n",
    "}\n",
    "```"
   ]
  },
  {
   "cell_type": "code",
   "execution_count": 5,
   "metadata": {},
   "outputs": [
    {
     "name": "stdout",
     "output_type": "stream",
     "text": [
      "15 40 4 "
     ]
    }
   ],
   "source": [
    "// class DiverseArray {\n",
    "//   public static int arraySum(int[] arr) {\n",
    "//       int sum = 0;\n",
    "//       for (int i = 0; i<arr.length; i++){\n",
    "//           sum+=arr[i];\n",
    "//       }\n",
    "//       return sum;\n",
    "//   }\n",
    "\n",
    "//   public static int[] rowSums(int[][] twoD) {\n",
    "//       int[] sums = new int[twoD.length];\n",
    "//       for (int i = 0; i<twoD.length; i++) {\n",
    "//           sums[i] = arraySum(twoD[i]);\n",
    "//       }\n",
    "//       return sums;\n",
    "//   }\n",
    "// }\n",
    "\n",
    "// int[][] array = {{1,2,3,4,5}, {6,7,8,9,10}, {1,1,1,1,0}};\n",
    "// int[] result = DiverseArray.rowSums(array);\n",
    "// for (int i = 0; i<result.length; i++) {\n",
    "//   System.out.print(result[i] + \" \");\n",
    "// }"
   ]
  },
  {
   "attachments": {},
   "cell_type": "markdown",
   "metadata": {},
   "source": [
    "# Part C\n",
    "- Task: Implement a static method named `isDiverse`.\n",
    "- Purpose: Determine whether a given two-dimensional array is diverse.\n",
    "- Example: Given a two-dimensional array `arr2D`, demonstrate the result obtained by calling the `isDiverse` method.\n",
    "- Outcome: The method should return `true` if all row sums in the array are unique; otherwise, it should return `false`. In the provided examples, `isDiverse(mat1)` returns `true` as each row sum is unique, while `isDiverse(mat2)` returns `false` due to repeated row sums.\n",
    "\n",
    "# My Solution\n",
    "- Use a nested for loop that checks if sums are equal"
   ]
  },
  {
   "attachments": {},
   "cell_type": "markdown",
   "metadata": {},
   "source": [
    "```java\n",
    "class DiverseArray {\n",
    "    public static int arraySum(int[] arr) {\n",
    "        int sum = 0;\n",
    "        for (int i = 0; i<arr.length; i++){\n",
    "            sum+=arr[i];\n",
    "        }\n",
    "        return sum;\n",
    "    }\n",
    "  \n",
    "    public static int[] rowSums(int[][] twoD) {\n",
    "        int[] sums = new int[twoD.length];\n",
    "        for (int i = 0; i<twoD.length; i++) {\n",
    "            sums[i] = arraySum(twoD[i]);\n",
    "        }\n",
    "        return sums;\n",
    "    }\n",
    "    \n",
    "    public static boolean isDiverse(int[][] twoD) {\n",
    "        int[] rowSums = rowSums(twoD);\n",
    "    \n",
    "        for (int i = 0; i < rowSums.length; i++) {\n",
    "            int equal = 0;\n",
    "    \n",
    "            for (int j = 0; j < rowSums.length; j++) {\n",
    "                if (rowSums[i] == rowSums[j]) {\n",
    "                    equal++;\n",
    "                }\n",
    "            }\n",
    "    \n",
    "            if (equal > 1) {\n",
    "                return false;\n",
    "            }\n",
    "        }\n",
    "    \n",
    "        return true;\n",
    "    }\n",
    "    \n",
    "}\n",
    "\n",
    "int[][] array1 = {{1,2,3,4,5}, {6,7,8,9,0}};\n",
    "int[][] array2 = {{1,1,1,1,1}, {1,1,1,1,1}};\n",
    "System.out.print(DiverseArray.isDiverse(array1) + \"\\n\");\n",
    "System.out.print(DiverseArray.isDiverse(array2));\n",
    "```"
   ]
  },
  {
   "cell_type": "code",
   "execution_count": 10,
   "metadata": {},
   "outputs": [
    {
     "name": "stdout",
     "output_type": "stream",
     "text": [
      "true\n",
      "false"
     ]
    }
   ],
   "source": [
    "// class DiverseArray {\n",
    "//     public static int arraySum(int[] arr) {\n",
    "//         int sum = 0;\n",
    "//         for (int i = 0; i<arr.length; i++){\n",
    "//             sum+=arr[i];\n",
    "//         }\n",
    "//         return sum;\n",
    "//     }\n",
    "  \n",
    "//     public static int[] rowSums(int[][] twoD) {\n",
    "//         int[] sums = new int[twoD.length];\n",
    "//         for (int i = 0; i<twoD.length; i++) {\n",
    "//             sums[i] = arraySum(twoD[i]);\n",
    "//         }\n",
    "//         return sums;\n",
    "//     }\n",
    "    \n",
    "//     public static boolean isDiverse(int[][] twoD) {\n",
    "//         int[] rowSums = rowSums(twoD);\n",
    "    \n",
    "//         for (int i = 0; i < rowSums.length; i++) {\n",
    "//             int equal = 0;\n",
    "    \n",
    "//             for (int j = 0; j < rowSums.length; j++) {\n",
    "//                 if (rowSums[i] == rowSums[j]) {\n",
    "//                     equal++;\n",
    "//                 }\n",
    "//             }\n",
    "    \n",
    "//             if (equal > 1) {\n",
    "//                 return false;\n",
    "//             }\n",
    "//         }\n",
    "    \n",
    "//         return true;\n",
    "//     }\n",
    "    \n",
    "// }\n",
    "\n",
    "// int[][] array1 = {{1,2,3,4,5}, {6,7,8,9,0}};\n",
    "// int[][] array2 = {{1,1,1,1,1}, {1,1,1,1,1}};\n",
    "// System.out.print(DiverseArray.isDiverse(array1) + \"\\n\");\n",
    "// System.out.print(DiverseArray.isDiverse(array2));"
   ]
  }
 ],
 "metadata": {
  "kernelspec": {
   "display_name": "Java",
   "language": "java",
   "name": "java"
  },
  "language_info": {
   "codemirror_mode": "java",
   "file_extension": ".jshell",
   "mimetype": "text/x-java-source",
   "name": "java",
   "pygments_lexer": "java",
   "version": "17.0.9+9-Ubuntu-122.04"
  },
  "orig_nbformat": 4,
  "vscode": {
   "interpreter": {
    "hash": "767d51c1340bd893661ea55ea3124f6de3c7a262a8b4abca0554b478b1e2ff90"
   }
  }
 },
 "nbformat": 4,
 "nbformat_minor": 2
}
