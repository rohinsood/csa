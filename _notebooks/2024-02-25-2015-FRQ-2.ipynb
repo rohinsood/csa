{
 "cells": [
  {
   "attachments": {},
   "cell_type": "markdown",
   "metadata": {},
   "source": [
    "---\n",
    "layout: post\n",
    "title: 2015 FRQ 2\n",
    "toc: true\n",
    "comments: true\n",
    "courses: { csa: {week: 26} }\n",
    "type: hacks\n",
    "---"
   ]
  },
  {
   "attachments": {},
   "cell_type": "markdown",
   "metadata": {},
   "source": [
    "# The Problem & First Impressions\n",
    "The problem involves creating a Java class called `HiddenWord` to represent a hidden word in a guessing game. The hidden word, initialized in the constructor, consists only of capital letters and is of a known length. The class features a method, `getHint`, designed to generate a hint based on the comparison between the hidden word and a player's guess. The hint provides information about matching letters in the same position, matching letters in different positions, and letters not present in the hidden word. The task specifies example instances of the `HiddenWord` class and the expected hints corresponding to various guesses. The implementation involves handling these rules to produce accurate hints. Topics such as object-oriented programming, instance variables, and constructors are employed to represent and initialize the hidden word. "
   ]
  },
  {
   "attachments": {},
   "cell_type": "markdown",
   "metadata": {},
   "source": [
    "# Prompt Summary\n",
    "- Implement a Java class, HiddenWord, for a guessing game. The class includes a method, getHint, which generates hints based on the comparison between the hidden word and a player's guess.\n",
    "\n",
    "# My Solution:\n",
    "- **Class Structure:**\n",
    "  - Created a class named `HiddenWord`.\n",
    "  - Included a private attribute named `solution` to store the solution string.\n",
    "\n",
    "- **Constructor:**\n",
    "  - Implemented a constructor to initialize the value of the `solution` attribute.\n",
    "\n",
    "- **Helper Method:**\n",
    "  - Introduced a private method named `isContainChar` to test if the solution contains a certain character.\n",
    "\n",
    "- **Main Method (`getHint`):**\n",
    "  - Implemented the required `getHint` method as per the problem statement.\n",
    "  - Utilized a for-loop to sequentially compare each letter of the input and solution strings.\n",
    "  - Checked for a match, and if not found, verified if the character existed elsewhere in the string.\n",
    "  - If neither condition was met, added a \"*\" to denote the absence of the character within the string.\n",
    "  - The final result was a solution string providing hints based on the comparison of the input and solution strings."
   ]
  },
  {
   "cell_type": "code",
   "execution_count": 2,
   "metadata": {
    "vscode": {
     "languageId": "java"
    }
   },
   "outputs": [
    {
     "name": "stdout",
     "output_type": "stream",
     "text": [
      "Hint for string \"SHHOT\": ***+*\n",
      "Hint for string \"BOOGY\": *OOG+\n",
      "Hint for string \"SHART\": *****\n",
      "Hint for string \"OOOPE\": +OO**\n",
      "Hint for string \"YEAAH\": +****\n"
     ]
    }
   ],
   "source": [
    "class HiddenWord {\n",
    "    private String solution;\n",
    "    \n",
    "    HiddenWord(String word) {\n",
    "        this.solution = word;\n",
    "    }\n",
    "\n",
    "    private boolean isContainChar(char character) {\n",
    "        for (int i = 0; i<this.solution.length(); i++) {\n",
    "            if (character == this.solution.charAt(i)) {\n",
    "                return true;\n",
    "            }\n",
    "        }\n",
    "        return false;\n",
    "    }\n",
    "\n",
    "    public String getHint(String input) {\n",
    "        String output = \"\";\n",
    "        for (int i = 0; i < input.length(); i++) {\n",
    "            if (input.charAt(i)==this.solution.charAt(i)) {\n",
    "                output = output + input.charAt(i);\n",
    "            } else if (isContainChar(input.charAt(i))) {\n",
    "                output = output + \"+\";\n",
    "            } else {\n",
    "                output = output + \"*\";\n",
    "            }\n",
    "        }\n",
    "        return output;\n",
    "    }\n",
    "}\n",
    "\n",
    "HiddenWord puzzle = new HiddenWord(\"GOOGLY\");\n",
    "String[] testCases = {\"SHHOT\", \"BOOGY\", \"SHART\", \"OOOPE\", \"YEAAH\"};\n",
    "for (int i = 0; i < testCases.length; i++) {\n",
    "    System.out.println(\"Hint for string \\\"\" + testCases[i] + \"\\\": \" + puzzle.getHint(testCases[i]));\n",
    "}\n"
   ]
  }
 ],
 "metadata": {
  "kernelspec": {
   "display_name": "Java",
   "language": "java",
   "name": "java"
  },
  "language_info": {
   "codemirror_mode": "java",
   "file_extension": ".jshell",
   "mimetype": "text/x-java-source",
   "name": "Java",
   "pygments_lexer": "java",
   "version": "17.0.9+9-Ubuntu-122.04"
  },
  "orig_nbformat": 4,
  "vscode": {
   "interpreter": {
    "hash": "767d51c1340bd893661ea55ea3124f6de3c7a262a8b4abca0554b478b1e2ff90"
   }
  }
 },
 "nbformat": 4,
 "nbformat_minor": 2
}
