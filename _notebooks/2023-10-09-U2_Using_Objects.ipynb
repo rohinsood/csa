{
 "cells": [
  {
   "attachments": {},
   "cell_type": "markdown",
   "metadata": {},
   "source": [
    "---\n",
    "toc: true\n",
    "comments: true\n",
    "layout: post\n",
    "title: U2 Using Objects\n",
    "courses: { csa: {week: 7} }\n",
    "type: hacks\n",
    "---"
   ]
  },
  {
   "cell_type": "code",
   "execution_count": null,
   "metadata": {},
   "outputs": [],
   "source": [
    "import java.util.ArrayList;\n",
    "\n",
    "public class Hack4<T> {\n",
    "\n",
    "  private T genericType;\n",
    "  private ArrayList<Object> objects = new ArrayList<Object>();\n",
    "\n",
    "  public Hack4(T genericType){\n",
    "    this.genericType = genericType;\n",
    "    \n",
    "    castInstanceVars();\n",
    "\n",
    "    objects.add((Integer) genericType);\n",
    "    objects.add((Double) genericType);\n",
    "    objects.add((Boolean) genericType);\n",
    "    objects.add(genericType.toString());\n",
    "  }\n",
    "\n",
    "  public void castInstanceVars() {\n",
    "  }\n",
    "\n",
    "  public T get() {\n",
    "    return this.genericType;\n",
    "  }\n",
    "\n",
    "  public ArrayList<Object> getCastedList() {\n",
    "    return this.objects;\n",
    "  }\n",
    "\n",
    "  public void set(T genericType) {\n",
    "    this.genericType = genericType;\n",
    "    objects.set(0, (Integer) genericType);\n",
    "    objects.set(1, (Double) genericType);\n",
    "    objects.set(2, (Boolean) genericType);\n",
    "    objects.set(3, genericType.toString());\n",
    "  }\n",
    "  \n",
    "  public static void main(String[] Args) {\n",
    "    Hack4<Integer> testOne = new Hack4<Integer>(1);\n",
    "    System.out.println(\"Value before change: \" + testOne.get());\n",
    "    System.out.println(\"Value before change: \" + testOne.get());\n",
    "    testOne.set(2);\n",
    "    System.out.println(\"Value after Change: \" + testOne.get());\n",
    "\n",
    "    Hack4<String> testTwo = new Hack4<String>(\"I don't deserve extra credit\");\n",
    "    System.out.println(\"Value before change: \" + testTwo.get());\n",
    "    testTwo.set(\"I deserve extra credit\");\n",
    "    System.out.println(\"Value after Change: \" + testTwo.get());\n",
    "  }\n",
    "\n",
    "}"
   ]
  }
 ],
 "metadata": {
  "kernelspec": {
   "display_name": "Java",
   "language": "java",
   "name": "java"
  },
  "language_info": {
   "name": "java",
   "version": "3.10.12 (main, Jun 11 2023, 05:26:28) [GCC 11.4.0]"
  },
  "orig_nbformat": 4,
  "vscode": {
   "interpreter": {
    "hash": "e7370f93d1d0cde622a1f8e1c04877d8463912d04d973331ad4851f04de6915a"
   }
  }
 },
 "nbformat": 4,
 "nbformat_minor": 2
}
