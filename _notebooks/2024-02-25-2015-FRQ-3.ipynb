{
 "cells": [
  {
   "cell_type": "markdown",
   "metadata": {},
   "source": [
    "---\n",
    "layout: post\n",
    "title: 2015 FRQ 3\n",
    "toc: true\n",
    "comments: true\n",
    "courses: { csa: {week: 26} }\n",
    "type: hacks\n",
    "---"
   ]
  },
  {
   "attachments": {},
   "cell_type": "markdown",
   "metadata": {},
   "source": [
    "# The Problem & First Impressions\n",
    "- The SparseArray class, employing concepts of object-oriented programming in Java, manages a sparse array by utilizing SparseArrayEntry objects. The getValueAt method, leveraging concepts of data encapsulation and iteration, retrieves the value at a specified row and column by searching the entries list. Utilizing control structures such as conditionals, it returns either the associated value or 0 if no matching entry is found. The removeColumn method, also employing iteration and conditional logic, efficiently removes a specified column, adjusting the entries list and updating the total column count. This solution effectively demonstrates the use of object-oriented principles, data encapsulation, iteration, and control structures in Java for managing sparse arrays in a memory-efficient manner.\n",
    "\n",
    "# Part A\n",
    "- **Task:** Create a static method named `getValueAt` in the SparseArray class.\n",
    "- **Purpose:** Calculate and return the value of the sparse array element at a specified row and column.\n",
    "- **Example:** Given a SparseArray object `sparse`, demonstrate the result obtained by calling `sparse.getValueAt(3, 1)` and `sparse.getValueAt(3, 3)`.\n",
    "- **Outcome:** The method should check if the list `entries` contains an entry with the specified row and column. If found, return the associated value; otherwise, return 0. In the provided example, the call `sparse.getValueAt(3, 1)` should return -9, and `sparse.getValueAt(3, 3)` should return 0.\n",
    "\n",
    "## My Solution:\n",
    "- For each entry, it checks if the row and column match the specified `row` and `col` parameters.\n",
    "- If a matching entry is found, the method returns the associated value using `getValue()` from the `SparseArrayEntry`.\n",
    "- If no matching entry is found after iterating through the list, the method returns 0, indicating that there is no entry at the specified row and column in the sparse array.\n",
    "- For instance, calling `getValueAt(3, 1)` would return the value associated with the entry at row 3, column 1, if such an entry exists. If not, it returns 0.\n",
    "- This method allows retrieval of the value of a sparse array element based on its row and column indexes."
   ]
  },
  {
   "cell_type": "code",
   "execution_count": 1,
   "metadata": {
    "vscode": {
     "languageId": "java"
    }
   },
   "outputs": [],
   "source": [
    "public class SparseArrayEntry {\n",
    "  private int col;\n",
    "  private int row;\n",
    "  private int value;\n",
    "\n",
    "  public SparseArrayEntry(int r, int c, int v) {\n",
    "      this.row = r;\n",
    "      this.col = c;\n",
    "      this.value = v;\n",
    "  }\n",
    "\n",
    "  public int getRow() {\n",
    "      return this.row;\n",
    "  }\n",
    "\n",
    "  public int getCol() {\n",
    "      return this.col;\n",
    "  }\n",
    "\n",
    "  public int getValue() {\n",
    "      return this.value;\n",
    "  }\n",
    "}\n"
   ]
  },
  {
   "cell_type": "code",
   "execution_count": 2,
   "metadata": {
    "vscode": {
     "languageId": "java"
    }
   },
   "outputs": [
    {
     "name": "stdout",
     "output_type": "stream",
     "text": [
      "Number of rows: 0 Number of columns: 0\n",
      "Value at row = 1, col = 1: 5\n",
      "Value at row = 1, col = 4: 4\n",
      "Value at row = 2, col = 0: 1\n",
      "Value at row = 3, col = 1: -9\n"
     ]
    }
   ],
   "source": [
    "public class SparseArray {\n",
    "  private int numRows;\n",
    "  private int numCols;\n",
    "\n",
    "  private List<SparseArrayEntry> entries;\n",
    "\n",
    "  public SparseArray() {\n",
    "      this.entries = new ArrayList<SparseArrayEntry>();\n",
    "  }\n",
    "\n",
    "  public int getNumRows() {\n",
    "      return numRows;\n",
    "  }\n",
    "\n",
    "  public int getNumCols() {\n",
    "      return numCols;\n",
    "  }\n",
    "\n",
    "  public List<SparseArrayEntry> getEntries() {\n",
    "      return entries;\n",
    "  }\n",
    "\n",
    "  public int getValueAt(int row, int col) {\n",
    "      for (int i = 0; i < this.entries.size(); i++) {\n",
    "          if (this.entries.get(i).getRow() == row && this.entries.get(i).getCol() == col) {\n",
    "              return this.entries.get(i).getValue();\n",
    "          }\n",
    "      }\n",
    "      return 0;\n",
    "  }\n",
    "}\n",
    "\n",
    "SparseArray test = new SparseArray();\n",
    "test.getEntries().add(new SparseArrayEntry(1,1,5));\n",
    "test.getEntries().add(new SparseArrayEntry(1,4,4));\n",
    "test.getEntries().add(new SparseArrayEntry(2,0,1));\n",
    "test.getEntries().add(new SparseArrayEntry(3,1,-9));\n",
    "System.out.println(\"Number of rows: \" + test.getNumRows() + \" Number of columns: \" + test.getNumCols());\n",
    "System.out.println(\"Value at row = 1, col = 1: \" + test.getValueAt(1,1));\n",
    "System.out.println(\"Value at row = 1, col = 4: \" + test.getValueAt(1,4));\n",
    "System.out.println(\"Value at row = 2, col = 0: \" + test.getValueAt(2,0));\n",
    "System.out.println(\"Value at row = 3, col = 1: \" + test.getValueAt(3,1));\n"
   ]
  },
  {
   "attachments": {},
   "cell_type": "markdown",
   "metadata": {},
   "source": [
    "# Part B\n",
    "- **Task:** Implement the `removeColumn` method in the SparseArray class.\n",
    "- **Purpose:** Remove a specified column from the sparse array and adjust the entries list and column count accordingly.\n",
    "- **Example:** Given a SparseArray object `sparse` with a specific state, demonstrate the result obtained by calling `sparse.removeColumn(1)`.\n",
    "- **Outcome:**\n",
    "  - Remove all entries in the `entries` list with column indexes matching the specified column.\n",
    "  - Replace entries in the `entries` list with column indexes greater than the specified column by decrementing their column indexes by one (moving one column to the left).\n",
    "  - Adjust the number of columns in the sparse array (`numCols`) to reflect the removed column.\n",
    "  - The order of entries in the `entries` list may change, as it is in no particular order.\n",
    "  - Example outcome:\n",
    "    - `numRows: 6`\n",
    "    - `numCols: 4`\n",
    "    - `entries:` \n",
    "      - `row: 1, col: 3, value: 4`\n",
    "      - `row: 2, col: 0, value: 1`\n",
    "  \n",
    "## My Solution:\n",
    "- Initializes an ArrayList `indicesToRemove` to keep track of indices to be removed from the entries list.\n",
    "- Iterates through the entries list:\n",
    "  - If an entry has the specified column index (`col`), adds its index to `indicesToRemove`.\n",
    "  - If an entry has a column index greater than `col`, updates the entry by decrementing its column index by one.\n",
    "- Adjusts the indices in `indicesToRemove` to account for the removal of entries during the iteration.\n",
    "- Removes entries from the entries list based on the indices stored in `indicesToRemove`.\n",
    "- Decrements the total number of columns in the sparse array (`numCols`).\n",
    "- Given a SparseArray object `test` with specific entries and dimensions, calling `test.removeColumn(1)` would:\n",
    "  - Remove entries with column index 1.\n",
    "  - Update entries with column index greater than 1 by decrementing their column index by one.\n",
    "  - Adjust the total number of columns (`numCols`) to reflect the removal.\n",
    "- The resulting state of the SparseArray would be printed using the subsequent println statements."
   ]
  },
  {
   "cell_type": "code",
   "execution_count": 3,
   "metadata": {
    "vscode": {
     "languageId": "java"
    }
   },
   "outputs": [
    {
     "name": "stdout",
     "output_type": "stream",
     "text": [
      "Number of rows: 6 Number of columns: 5\n",
      "Value at row = 1, col = 1: 5\n",
      "Value at row = 1, col = 4: 4\n",
      "Value at row = 2, col = 0: 1\n",
      "Value at row = 3, col = 1: -9\n",
      "Number of rows: 6 Number of columns: 4\n",
      "Value at row = 1, col = 1: 0\n",
      "Value at row = 1, col = 3: 4\n",
      "Value at row = 2, col = 0: 1\n",
      "Value at row = 3, col = 1: 0\n"
     ]
    }
   ],
   "source": [
    "public class SparseArray {\n",
    "  private int numRows;\n",
    "  private int numCols;\n",
    "\n",
    "  private List<SparseArrayEntry> entries;\n",
    "\n",
    "  public SparseArray(int rows, int cols) {\n",
    "      this.entries = new ArrayList<SparseArrayEntry>();\n",
    "      this.numRows = rows;\n",
    "      this.numCols = cols;\n",
    "  }\n",
    "\n",
    "  public int getNumRows() {\n",
    "      return numRows;\n",
    "  }\n",
    "\n",
    "  public int getNumCols() {\n",
    "      return numCols;\n",
    "  }\n",
    "\n",
    "  public List<SparseArrayEntry> getEntries() {\n",
    "      return entries;\n",
    "  }\n",
    "\n",
    "  public int getValueAt(int row, int col) {\n",
    "      for (int i = 0; i < this.entries.size(); i++) {\n",
    "          if (this.entries.get(i).getRow() == row && this.entries.get(i).getCol() == col) {\n",
    "              return this.entries.get(i).getValue();\n",
    "          }\n",
    "      }\n",
    "      return 0;\n",
    "  }\n",
    "\n",
    "  public void removeColumn(int col) {\n",
    "      ArrayList<Integer> indicesToRemove = new ArrayList<Integer>();\n",
    "      for (int i = 0; i < this.entries.size(); i++) {\n",
    "          if (this.entries.get(i).getCol() == col) {\n",
    "              indicesToRemove.add(i);\n",
    "          } else if (this.entries.get(i).getCol() > col) {\n",
    "              int newRow = this.entries.get(i).getRow();\n",
    "              int newCol = this.entries.get(i).getCol()-1;\n",
    "              int newValue = this.entries.get(i).getValue();\n",
    "              this.entries.set(i, new SparseArrayEntry(newRow, newCol, newValue));\n",
    "          }\n",
    "      }\n",
    "      for (int i = 0; i < indicesToRemove.size(); i++) {\n",
    "          indicesToRemove.set(i, indicesToRemove.get(i) - i);\n",
    "      }\n",
    "\n",
    "      for (int i = 0; i < indicesToRemove.size(); i++) {\n",
    "          this.entries.remove((int) indicesToRemove.get(i));\n",
    "      }\n",
    "      this.numCols--;\n",
    "  }\n",
    "}\n",
    "\n",
    "SparseArray test = new SparseArray(6,5);\n",
    "test.getEntries().add(new SparseArrayEntry(1,1,5));\n",
    "test.getEntries().add(new SparseArrayEntry(1,4,4));\n",
    "test.getEntries().add(new SparseArrayEntry(2,0,1)); \n",
    "test.getEntries().add(new SparseArrayEntry(3,1,-9));\n",
    "System.out.println(\"Number of rows: \" + test.getNumRows() + \" Number of columns: \" + test.getNumCols());\n",
    "System.out.println(\"Value at row = 1, col = 1: \" + test.getValueAt(1,1));\n",
    "System.out.println(\"Value at row = 1, col = 4: \" + test.getValueAt(1,4));\n",
    "System.out.println(\"Value at row = 2, col = 0: \" + test.getValueAt(2,0));\n",
    "System.out.println(\"Value at row = 3, col = 1: \" + test.getValueAt(3,1));\n",
    "test.removeColumn(1);\n",
    "System.out.println(\"Number of rows: \" + test.getNumRows() + \" Number of columns: \" + test.getNumCols());\n",
    "System.out.println(\"Value at row = 1, col = 1: \" + test.getValueAt(1,1));\n",
    "System.out.println(\"Value at row = 1, col = 3: \" + test.getValueAt(1,3));\n",
    "System.out.println(\"Value at row = 2, col = 0: \" + test.getValueAt(2,0));\n",
    "System.out.println(\"Value at row = 3, col = 1: \" + test.getValueAt(3,1));"
   ]
  }
 ],
 "metadata": {
  "kernelspec": {
   "display_name": "Java",
   "language": "java",
   "name": "java"
  },
  "language_info": {
   "codemirror_mode": "java",
   "file_extension": ".jshell",
   "mimetype": "text/x-java-source",
   "name": "Java",
   "pygments_lexer": "java",
   "version": "17.0.9+9-Ubuntu-122.04"
  },
  "orig_nbformat": 4,
  "vscode": {
   "interpreter": {
    "hash": "767d51c1340bd893661ea55ea3124f6de3c7a262a8b4abca0554b478b1e2ff90"
   }
  }
 },
 "nbformat": 4,
 "nbformat_minor": 2
}
